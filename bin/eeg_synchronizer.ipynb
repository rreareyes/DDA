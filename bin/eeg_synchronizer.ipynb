{
 "cells": [
  {
   "cell_type": "code",
   "execution_count": null,
   "metadata": {},
   "outputs": [],
   "source": [
    "# Import libraries\n",
    "import os\n",
    "import numpy as np\n",
    "import easygui\n",
    "import pyxdf\n",
    "import pandas as pd"
   ]
  },
  {
   "cell_type": "code",
   "execution_count": null,
   "metadata": {},
   "outputs": [],
   "source": [
    "# Base paths\n",
    "DIR_ROOT      = os.path.dirname(os.path.abspath(''))\n",
    "DIR_DATA      = os.path.join(DIR_ROOT, \"data\")\n",
    "DIR_SYNC      = os.path.join(DIR_DATA, \"synchronized\")\n",
    "DIR_EEG       = os.path.join(DIR_DATA, \"eeg\")\n",
    "DIR_VIDEO     = os.path.join(DIR_DATA, \"video\")\n",
    "DIR_SIMULATOR = os.path.join(DIR_DATA, \"sim\")"
   ]
  },
  {
   "cell_type": "code",
   "execution_count": null,
   "metadata": {},
   "outputs": [],
   "source": [
    "# Get list of files to synchronize\n",
    "eeg_files   = [file for file in os.listdir(DIR_EEG) if file.endswith(\".xdf\")]\n",
    "sim_files   = [file for file in os.listdir(DIR_SIMULATOR) if file.endswith(\".dat\")]\n",
    "# event_files = [file for file in os.listdir(DIR_SIMULATOR) if file.endswith(\".evt\")]\n",
    "\n",
    "# Display a choicebox to select the xdf file\n",
    "file_eeg        = os.path.join(DIR_EEG, easygui.choicebox(\"Select the EEG file to synchronize\", \"Synchronize\", eeg_files))\n",
    "file_simulator  = os.path.join(DIR_SIMULATOR, easygui.choicebox(\"Select the driving simulator file to synchronize\", \"Synchronize\", sim_files))\n",
    "file_sim_events = os.path.join(DIR_SIMULATOR, os.path.splitext(os.path.basename(file_simulator))[0] + \".evt\")\n",
    "\n",
    "# Check if file_sim_events exists, if not, display an error\n",
    "if not os.path.exists(file_sim_events):\n",
    "    easygui.msgbox(\"Event file not found. Please check the file name and try again.\", \"Error\")\n",
    "    exit()\n",
    "\n",
    "trigger_time = float(easygui.enterbox(msg=\"Enter trigger audio time (in seconds)\", title=\"Trigger time\", default = \"\"))"
   ]
  },
  {
   "cell_type": "code",
   "execution_count": null,
   "metadata": {},
   "outputs": [],
   "source": [
    "# Read EEG data\n",
    "streams, header = pyxdf.load_xdf(file_eeg)\n",
    "\n",
    "# Separate video and EEG data streams\n",
    "video_raw_data = streams[0]\n",
    "\n",
    "video_time_stamps = video_raw_data[\"time_stamps\"]\n",
    "true_video_start  = float(video_raw_data[\"footer\"][\"info\"][\"first_timestamp\"][0])\n",
    "true_video_end    = float(video_raw_data[\"footer\"][\"info\"][\"last_timestamp\"][0])\n",
    "\n",
    "true_video_time_stamps   = video_time_stamps - true_video_start\n",
    "vide_trigger_index       = np.argmin(np.abs(true_video_time_stamps - trigger_time))\n",
    "video_trigger_time_stamp = video_time_stamps[vide_trigger_index]\n",
    "\n",
    "# Get EEG data stream\n",
    "eeg_raw_data = streams[2]\n",
    "\n",
    "# Extract EEG data\n",
    "eeg_signal     = eeg_raw_data[\"time_series\"]\n",
    "eeg_time_stamp = eeg_raw_data[\"time_stamps\"]\n",
    "\n",
    "# Extract channel labels\n",
    "channel_info = eeg_raw_data[\"info\"][\"desc\"][0][\"channels\"]\n",
    "\n",
    "channel_labels = []\n",
    "for entry in channel_info:\n",
    "    for channel in entry['channel']:\n",
    "        channel_labels.append(channel['label'][0])\n",
    "\n",
    "# Create dataframe with channel data\n",
    "eeg_data = pd.DataFrame(eeg_signal, columns=channel_labels)\n",
    "\n",
    "# Add time stamp column to eeg data\n",
    "eeg_data[\"time_stamp\"] = eeg_time_stamp\n",
    "\n",
    "# Find the closes eeg_time stamp to the trigger time stamp\n",
    "eeg_trigger_index = np.argmin(np.abs(eeg_time_stamp - video_trigger_time_stamp))\n",
    "\n",
    "eeg_sync_time_stamp = eeg_time_stamp[eeg_trigger_index]\n",
    "\n",
    "# Generate synced eeg data with corrected time stamps\n",
    "eeg_sync_data = eeg_data.iloc[eeg_trigger_index:]\n",
    "eeg_sync_data[\"time_stamp\"] = eeg_sync_data[\"time_stamp\"] - eeg_sync_time_stamp\n"
   ]
  },
  {
   "cell_type": "code",
   "execution_count": null,
   "metadata": {},
   "outputs": [],
   "source": [
    "# Read simulator data\n",
    "sim_data = pd.read_csv(file_simulator, sep=\" \")\n",
    "event_data = pd.read_csv(file_sim_events, sep=\"\\s+|#\", engine=\"python\")\n",
    "\n",
    "# Get trigger time from event data\n",
    "sim_trigger_time = event_data[event_data[\"Event_Name\"].str.contains(\"ReferencePoint\")][\"startTime\"].values[0]\n",
    "sim_trigger_index = np.argmin(np.abs(sim_data[\"SimTime\"] - sim_trigger_time))\n",
    "\n",
    "sim_sync_data = sim_data.iloc[sim_trigger_index:]\n",
    "sim_sync_data[\"time_stamp\"] = sim_sync_data[\"SimTime\"] - sim_trigger_time"
   ]
  },
  {
   "cell_type": "code",
   "execution_count": null,
   "metadata": {},
   "outputs": [],
   "source": [
    "# Export synced data\n",
    "experiment_basename = os.path.splitext(os.path.basename(file_eeg))[0]\n",
    "\n",
    "eeg_sync_data.to_csv(os.path.join(DIR_SYNC, experiment_basename + \"_eeg_sync.csv\"), index=False)\n",
    "sim_sync_data.to_csv(os.path.join(DIR_SYNC, experiment_basename + \"_sim_sync.csv\"), index=False)"
   ]
  },
  {
   "cell_type": "code",
   "execution_count": null,
   "metadata": {},
   "outputs": [],
   "source": []
  }
 ],
 "metadata": {
  "kernelspec": {
   "display_name": "venv",
   "language": "python",
   "name": "python3"
  },
  "language_info": {
   "codemirror_mode": {
    "name": "ipython",
    "version": 3
   },
   "file_extension": ".py",
   "mimetype": "text/x-python",
   "name": "python",
   "nbconvert_exporter": "python",
   "pygments_lexer": "ipython3",
   "version": "3.11.5"
  },
  "orig_nbformat": 4
 },
 "nbformat": 4,
 "nbformat_minor": 2
}
