{
 "cells": [
  {
   "cell_type": "code",
   "execution_count": 8,
   "metadata": {},
   "outputs": [],
   "source": [
    "# Import libraries\n",
    "import os\n",
    "\n",
    "# Import helper functions\n",
    "from detect_audio_triggers import *\n",
    "from sync_eeg_data import *\n",
    "from sync_simulator_data import *\n"
   ]
  },
  {
   "cell_type": "code",
   "execution_count": null,
   "metadata": {},
   "outputs": [],
   "source": [
    "# Call the function to detect audio triggers\n",
    "trigger_time = detect_audio_triggers(segment_length = 5, hz_target = 9000)"
   ]
  },
  {
   "cell_type": "code",
   "execution_count": null,
   "metadata": {},
   "outputs": [],
   "source": [
    "# Sync the EEG data\n",
    "eeg_sync_data = sync_eeg_data(trigger_time = trigger_time)\n",
    "eeg_sync_data"
   ]
  },
  {
   "cell_type": "code",
   "execution_count": null,
   "metadata": {},
   "outputs": [],
   "source": [
    "# Sync the Simulator data\n",
    "sim_sync_data = sync_simulator_data(trigger_time = trigger_time)\n",
    "sim_sync_data"
   ]
  },
  {
   "cell_type": "code",
   "execution_count": 11,
   "metadata": {},
   "outputs": [],
   "source": [
    "# Export synced data\n",
    "dir_synchronized = easygui.diropenbox(title = \"Select folder to export synchronized data\")\n",
    "\n",
    "# Ask for experiment name\n",
    "experiment_basename = easygui.enterbox(msg = \"Enter experiment name\", title = \"Experiment name\")\n",
    "\n",
    "eeg_sync_data.to_csv(os.path.join(dir_synchronized, experiment_basename + \"_eeg_sync.csv\"), index=False)\n",
    "sim_sync_data.to_csv(os.path.join(dir_synchronized, experiment_basename + \"_sim_sync.csv\"), index=False)"
   ]
  }
 ],
 "metadata": {
  "kernelspec": {
   "display_name": "venv",
   "language": "python",
   "name": "python3"
  },
  "language_info": {
   "codemirror_mode": {
    "name": "ipython",
    "version": 3
   },
   "file_extension": ".py",
   "mimetype": "text/x-python",
   "name": "python",
   "nbconvert_exporter": "python",
   "pygments_lexer": "ipython3",
   "version": "3.9.12"
  },
  "orig_nbformat": 4
 },
 "nbformat": 4,
 "nbformat_minor": 2
}
